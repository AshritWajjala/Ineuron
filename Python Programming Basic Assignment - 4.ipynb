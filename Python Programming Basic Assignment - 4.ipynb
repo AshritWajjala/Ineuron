{
 "cells": [
  {
   "cell_type": "markdown",
   "id": "2b7204d9",
   "metadata": {},
   "source": [
    "# Python Programming Basic Assignment - 4"
   ]
  },
  {
   "cell_type": "markdown",
   "id": "33ccd54a",
   "metadata": {},
   "source": [
    "## 1. Write a Python Program to Find the Factorial of a Number?"
   ]
  },
  {
   "cell_type": "code",
   "execution_count": 1,
   "id": "ecd42b95",
   "metadata": {},
   "outputs": [
    {
     "name": "stdout",
     "output_type": "stream",
     "text": [
      "Enter a number: 5\n",
      "The factorial of number 5 = 120\n"
     ]
    }
   ],
   "source": [
    "#Python Program to Find the Factorial of a Number\n",
    "\n",
    "a = int(input(\"Enter a number: \"))\n",
    "result = 1\n",
    "for i in range(a,0,-1):\n",
    "    result = result * i\n",
    "print(f\"The factorial of number {a} = {result}\")"
   ]
  },
  {
   "cell_type": "markdown",
   "id": "fe331975",
   "metadata": {},
   "source": [
    "## 2. Write a Python Program to Display the multiplication Table?"
   ]
  },
  {
   "cell_type": "code",
   "execution_count": 2,
   "id": "afb5864b",
   "metadata": {},
   "outputs": [
    {
     "name": "stdout",
     "output_type": "stream",
     "text": [
      "Enter a number : 5\n",
      "5 x 1 = 5\n",
      "5 x 2 = 10\n",
      "5 x 3 = 15\n",
      "5 x 4 = 20\n",
      "5 x 5 = 25\n",
      "5 x 6 = 30\n",
      "5 x 7 = 35\n",
      "5 x 8 = 40\n",
      "5 x 9 = 45\n",
      "5 x 10 = 50\n"
     ]
    }
   ],
   "source": [
    "#Python Program to Display the multiplication Table\n",
    "\n",
    "a = int(input(\"Enter a number : \"))\n",
    "for i in range(1,11):\n",
    "    print(f\"{a} x {i} = {a*i}\")"
   ]
  },
  {
   "cell_type": "markdown",
   "id": "93ae83d4",
   "metadata": {},
   "source": [
    "## 3. Write a Python Program to Print the Fibonacci sequence?"
   ]
  },
  {
   "cell_type": "code",
   "execution_count": 12,
   "id": "a306debf",
   "metadata": {},
   "outputs": [
    {
     "name": "stdout",
     "output_type": "stream",
     "text": [
      "Enter the range of fibonacci series : 0\n",
      "Please enter positive number!!\n",
      "Enter the range of fibonacci series : 10\n",
      "Below is the fibanocci sequence :\n",
      "0\n",
      "1\n",
      "1\n",
      "2\n",
      "3\n",
      "5\n",
      "8\n",
      "13\n",
      "21\n",
      "34\n"
     ]
    }
   ],
   "source": [
    "def fibonacci():\n",
    "    n1,n2 = 0,1\n",
    "    count = 0\n",
    "    a = int(input(\"Enter the range of fibonacci series : \"))\n",
    "    if a <= 0:\n",
    "        print(\"Please enter positive number!!\")\n",
    "        fibonacci()\n",
    "    elif a == 1:\n",
    "        print(f\"Given order of fibonacci series is : {a}\")\n",
    "        print(n1)\n",
    "    else:\n",
    "        print(\"Below is the fibanocci sequence :\")\n",
    "        while count < a:\n",
    "            print(n1)\n",
    "            nth = n1 + n2\n",
    "            n1 = n2\n",
    "            n2 = nth\n",
    "            count = count + 1\n",
    "\n",
    "fibonacci()"
   ]
  },
  {
   "cell_type": "markdown",
   "id": "1fc6e2db",
   "metadata": {},
   "source": [
    "## 4. Write a Python Program to Check Armstrong Number?"
   ]
  },
  {
   "cell_type": "code",
   "execution_count": 8,
   "id": "1af9cb5a",
   "metadata": {},
   "outputs": [
    {
     "name": "stdout",
     "output_type": "stream",
     "text": [
      "Enter number : 407\n",
      "The given number is an Armstrong number\n"
     ]
    }
   ],
   "source": [
    "# Python Program to Check Armstrong Number\n",
    "def Armstrong():\n",
    "    result = 0\n",
    "    for i in a:\n",
    "        i = int(i)**len(a)\n",
    "        result = result + i\n",
    "    if result == int(a):\n",
    "        print(\"The given number is an Armstrong number\")\n",
    "    else:\n",
    "        print(\"The given number is not an Armstrong number\")\n",
    "number = str(input(\"Enter number : \"))\n",
    "Armstrong(number)"
   ]
  },
  {
   "cell_type": "markdown",
   "id": "0042361c",
   "metadata": {},
   "source": [
    "## 5. Write a Python Program to Find Armstrong Number in an Interval?"
   ]
  },
  {
   "cell_type": "code",
   "execution_count": 15,
   "id": "2e393602",
   "metadata": {},
   "outputs": [
    {
     "name": "stdout",
     "output_type": "stream",
     "text": [
      "Enter lower boundary : 300\n",
      "Enter higher boundary : 10000\n",
      "370 is arstrong number\n",
      "371 is arstrong number\n",
      "407 is arstrong number\n",
      "1634 is arstrong number\n",
      "8208 is arstrong number\n",
      "9474 is arstrong number\n"
     ]
    }
   ],
   "source": [
    "#Python Program to Find Armstrong Number in an Interval\n",
    "lower = int(input(\"Enter lower boundary : \"))\n",
    "higher = int(input(\"Enter higher boundary : \"))\n",
    "\n",
    "for number in range (lower,higher + 1):\n",
    "    length = len(str(number))\n",
    "    result = 0\n",
    "    temp = number\n",
    "    while temp > 0:\n",
    "        digit = temp % 10\n",
    "        result = result + digit ** length\n",
    "        temp = temp // 10\n",
    "    if result == number:\n",
    "        print(f\"{number} is arstrong number\")  "
   ]
  },
  {
   "cell_type": "markdown",
   "id": "dd407df6",
   "metadata": {},
   "source": [
    "## 6. Write a Python Program to Find the Sum of Natural Numbers?"
   ]
  },
  {
   "cell_type": "code",
   "execution_count": 5,
   "id": "2f8f9b54",
   "metadata": {},
   "outputs": [
    {
     "name": "stdout",
     "output_type": "stream",
     "text": [
      "Enter an natural number : 15\n",
      "The result is :  120\n"
     ]
    }
   ],
   "source": [
    "#Python Program to Find the Sum of Natural Numbers\n",
    "def natural(n):\n",
    "    if n == 0 or n < 0:\n",
    "        print(\"Invalid input, please enter number greater than zero!!\")\n",
    "    else:\n",
    "        return print(\"The result is : \",sum(range(1,n+1)))\n",
    "n = int(input(\"Enter an natural number : \"))\n",
    "natural(n)"
   ]
  },
  {
   "cell_type": "code",
   "execution_count": null,
   "id": "cc049038",
   "metadata": {},
   "outputs": [],
   "source": []
  }
 ],
 "metadata": {
  "kernelspec": {
   "display_name": "Python 3 (ipykernel)",
   "language": "python",
   "name": "python3"
  },
  "language_info": {
   "codemirror_mode": {
    "name": "ipython",
    "version": 3
   },
   "file_extension": ".py",
   "mimetype": "text/x-python",
   "name": "python",
   "nbconvert_exporter": "python",
   "pygments_lexer": "ipython3",
   "version": "3.9.7"
  }
 },
 "nbformat": 4,
 "nbformat_minor": 5
}
