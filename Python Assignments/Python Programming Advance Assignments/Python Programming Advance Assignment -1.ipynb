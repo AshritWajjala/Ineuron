{
 "cells": [
  {
   "cell_type": "markdown",
   "id": "39ab21a7",
   "metadata": {},
   "source": [
    "# Python Programming Advance Assignment -1"
   ]
  },
  {
   "cell_type": "markdown",
   "id": "23af4a0a",
   "metadata": {},
   "source": [
    "## 1. Write a function that takes a list of lists and returns the value of all of the symbols in it, where each symbol adds or takes something from the total score. Symbol values:\n",
    "'#' = 5\n",
    "O = 3\n",
    "X = 1\n",
    "! = -1\n",
    "!! = -3\n",
    "!!! = -5"
   ]
  },
  {
   "cell_type": "code",
   "execution_count": 3,
   "id": "d91a8c79",
   "metadata": {},
   "outputs": [
    {
     "name": "stdout",
     "output_type": "stream",
     "text": [
      "2\n",
      "0\n"
     ]
    }
   ],
   "source": [
    "def func(list1):\n",
    "    if type(list1) == list:\n",
    "        result = 0\n",
    "        for i in list1:\n",
    "            for j in i:\n",
    "                if j == '#':\n",
    "                    result = result + 5  \n",
    "                elif j == 'O':\n",
    "                    result = result + 3    \n",
    "                elif j == 'X':\n",
    "                    result = result + 1     \n",
    "                elif j == '!':\n",
    "                    result = result - 1\n",
    "                elif j == '!!':\n",
    "                    result = result -3\n",
    "                elif j == '!!!':\n",
    "                    result = result -5\n",
    "    if result < 0:\n",
    "        return 0\n",
    "    else:\n",
    "        return result\n",
    "    \n",
    "    \n",
    "list1 = [['#','!'], ['!!','X']]\n",
    "list2 = [['#','!'], ['!!','X','!!!']]\n",
    "print(func(list1))\n",
    "print(func(list2))"
   ]
  },
  {
   "cell_type": "markdown",
   "id": "b13ae3ca",
   "metadata": {},
   "source": [
    "## 2. Create a function that takes a variable number of arguments, each argument representing the number of items in a group, and returns the number of permutations (combinations) of items that you could get by taking one item from each group."
   ]
  },
  {
   "cell_type": "code",
   "execution_count": 5,
   "id": "52dd7865",
   "metadata": {},
   "outputs": [
    {
     "name": "stdout",
     "output_type": "stream",
     "text": [
      "120\n",
      "84\n"
     ]
    }
   ],
   "source": [
    "def func2(*args):\n",
    "    result = 1\n",
    "    for i in args:\n",
    "        result = result * i\n",
    "    return result\n",
    "print(func2(2,3,4,5))\n",
    "print(func2(3,7,4))"
   ]
  },
  {
   "cell_type": "markdown",
   "id": "bcfe2925",
   "metadata": {},
   "source": [
    "## 3. Create a function that takes a string as an argument and returns the Morse code equivalent.\n",
    "\n",
    "Examples\n",
    "\n",
    "encode_morse(\"EDABBIT CHALLENGE\") ➞ \". -.. .- -... -... .. -   -.-. .... .- .-.. .-.. . -. --. .\"\n",
    "\n",
    "encode_morse(\"HELP ME !\") ➞ \".... . .-.. .--.   -- .   -.-.--\"\n"
   ]
  },
  {
   "cell_type": "code",
   "execution_count": 21,
   "id": "706f9700",
   "metadata": {},
   "outputs": [],
   "source": [
    "char_to_dots = {\n",
    "  'A': '.-', 'B': '-...', 'C': '-.-.', 'D': '-..', 'E': '.', 'F': '..-.',\n",
    "  'G': '--.', 'H': '....', 'I': '..', 'J': '.---', 'K': '-.-', 'L': '.-..',\n",
    "  'M': '--', 'N': '-.', 'O': '---', 'P': '.--.', 'Q': '--.-', 'R': '.-.',\n",
    "  'S': '...', 'T': '-', 'U': '..-', 'V': '...-', 'W': '.--', 'X': '-..-',\n",
    "  'Y': '-.--', 'Z': '--..', ' ': ' ', '0': '-----',\n",
    "  '1': '.----', '2': '..---', '3': '...--', '4': '....-', '5': '.....',\n",
    "  '6': '-....', '7': '--...', '8': '---..', '9': '----.',\n",
    "  '&': '.-...', \"'\": '.----.', '@': '.--.-.', ')': '-.--.-', '(': '-.--.',\n",
    "  ':': '---...', ',': '--..--', '=': '-...-', '!': '-.-.--', '.': '.-.-.-',\n",
    "  '-': '-....-', '+': '.-.-.', '\"': '.-..-.', '?': '..--..', '/': '-..-.'\n",
    "}"
   ]
  },
  {
   "cell_type": "code",
   "execution_count": 24,
   "id": "206d3da2",
   "metadata": {},
   "outputs": [],
   "source": [
    "def func3(s):\n",
    "    result = ''\n",
    "    for i in s:\n",
    "        result = result + char_to_dots[i]\n",
    "    return result"
   ]
  },
  {
   "cell_type": "code",
   "execution_count": 25,
   "id": "d356772e",
   "metadata": {},
   "outputs": [
    {
     "data": {
      "text/plain": [
       "'.-...--...-.....- -.-......-.-...-...-.--..'"
      ]
     },
     "execution_count": 25,
     "metadata": {},
     "output_type": "execute_result"
    }
   ],
   "source": [
    "func3('EDABBIT CHALLENGE')"
   ]
  },
  {
   "cell_type": "code",
   "execution_count": 26,
   "id": "ee8962c9",
   "metadata": {},
   "outputs": [
    {
     "data": {
      "text/plain": [
       "'......-...--. --. -.-.--'"
      ]
     },
     "execution_count": 26,
     "metadata": {},
     "output_type": "execute_result"
    }
   ],
   "source": [
    "func3('HELP ME !')"
   ]
  },
  {
   "cell_type": "markdown",
   "id": "b578726e",
   "metadata": {},
   "source": [
    "## 4.  Write a function that takes a number and returns True if it's a prime; False otherwise. The number can be 2^64-1 (2 to the power of 63, not XOR). With the standard technique it would be O(2^64-1), which is much too large for the 10 second time limit.\n",
    "\n",
    "Examples\n",
    "\n",
    "prime(7) ➞ True\n",
    "\n",
    "prime(56963) ➞ True\n",
    "\n",
    "prime(5151512515524) ➞ False\n"
   ]
  },
  {
   "cell_type": "code",
   "execution_count": 81,
   "id": "9b6a9202",
   "metadata": {},
   "outputs": [],
   "source": [
    "def isPrime(num):\n",
    "    for i in range(2,num):\n",
    "        if i>1:\n",
    "            if num % i == 0:\n",
    "                print(False)\n",
    "                break\n",
    "            continue\n",
    "    else:\n",
    "        print(True)"
   ]
  },
  {
   "cell_type": "code",
   "execution_count": 82,
   "id": "2bee7e57",
   "metadata": {},
   "outputs": [
    {
     "name": "stdout",
     "output_type": "stream",
     "text": [
      "False\n"
     ]
    }
   ],
   "source": [
    "isPrime(5151512515524)"
   ]
  },
  {
   "cell_type": "code",
   "execution_count": 83,
   "id": "405ab3a6",
   "metadata": {},
   "outputs": [
    {
     "name": "stdout",
     "output_type": "stream",
     "text": [
      "True\n"
     ]
    }
   ],
   "source": [
    "isPrime(56963)"
   ]
  },
  {
   "cell_type": "markdown",
   "id": "f6ac02f0",
   "metadata": {},
   "source": [
    "## 5. Create a function that converts a word to a bitstring and then to a boolean list based on the following criteria:\n",
    "1. Locate the position of the letter in the English alphabet (from 1 to 26).\n",
    "2. Odd positions will be represented as 1 and 0 otherwise.\n",
    "3. Convert the represented positions to boolean values, 1 for True and 0\n",
    "for False.\n",
    "4. Store the conversions into an array."
   ]
  },
  {
   "cell_type": "code",
   "execution_count": 14,
   "id": "f247aeee",
   "metadata": {},
   "outputs": [],
   "source": [
    "def to_booleanlist(s):\n",
    "    char_bin = []\n",
    "    char_bool = []\n",
    "    for i in s:\n",
    "        char_bin.append(ord(i)%2)\n",
    "        char_bool.append(bool(ord(i)%2))\n",
    "    print(char_bin)\n",
    "    print(char_bool)\n",
    "    \n"
   ]
  },
  {
   "cell_type": "code",
   "execution_count": 17,
   "id": "4eebd661",
   "metadata": {},
   "outputs": [
    {
     "name": "stdout",
     "output_type": "stream",
     "text": [
      "[0, 1, 1, 0]\n",
      "[False, True, True, False]\n"
     ]
    }
   ],
   "source": [
    "to_booleanlist('deep')"
   ]
  },
  {
   "cell_type": "code",
   "execution_count": 19,
   "id": "0626051a",
   "metadata": {},
   "outputs": [
    {
     "name": "stdout",
     "output_type": "stream",
     "text": [
      "[0, 1, 0, 1, 1]\n",
      "[False, True, False, True, True]\n"
     ]
    }
   ],
   "source": [
    "to_booleanlist('loves')"
   ]
  },
  {
   "cell_type": "code",
   "execution_count": 20,
   "id": "bcfb9d07",
   "metadata": {},
   "outputs": [
    {
     "name": "stdout",
     "output_type": "stream",
     "text": [
      "[0, 1, 1, 0]\n",
      "[False, True, True, False]\n"
     ]
    }
   ],
   "source": [
    "to_booleanlist('tesh')"
   ]
  },
  {
   "cell_type": "code",
   "execution_count": null,
   "id": "3f946904",
   "metadata": {},
   "outputs": [],
   "source": []
  }
 ],
 "metadata": {
  "kernelspec": {
   "display_name": "Python 3 (ipykernel)",
   "language": "python",
   "name": "python3"
  },
  "language_info": {
   "codemirror_mode": {
    "name": "ipython",
    "version": 3
   },
   "file_extension": ".py",
   "mimetype": "text/x-python",
   "name": "python",
   "nbconvert_exporter": "python",
   "pygments_lexer": "ipython3",
   "version": "3.9.7"
  }
 },
 "nbformat": 4,
 "nbformat_minor": 5
}
