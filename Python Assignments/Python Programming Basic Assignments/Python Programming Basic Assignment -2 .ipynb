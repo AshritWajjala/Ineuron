{
 "cells": [
  {
   "cell_type": "markdown",
   "id": "53197df3",
   "metadata": {},
   "source": [
    "## 1. Write a Python program to convert kilometers to miles?"
   ]
  },
  {
   "cell_type": "code",
   "execution_count": 3,
   "id": "9f09b038",
   "metadata": {},
   "outputs": [
    {
     "name": "stdout",
     "output_type": "stream",
     "text": [
      "Enter value in kilometers : 4\n",
      "4.0 kilometers in miles = 2.485484\n"
     ]
    }
   ],
   "source": [
    "# Program that converts kilometers to miles\n",
    "km = float(input(\"Enter value in kilometers : \"))\n",
    "miles = km * 0.621371\n",
    "print(f\"{km} kilometers in miles = {miles}\")"
   ]
  },
  {
   "cell_type": "markdown",
   "id": "b3787fb8",
   "metadata": {},
   "source": [
    "## 2. Write a Python program to convert Celsius to Fahrenheit?"
   ]
  },
  {
   "cell_type": "code",
   "execution_count": 6,
   "id": "33eff406",
   "metadata": {},
   "outputs": [
    {
     "name": "stdout",
     "output_type": "stream",
     "text": [
      "Enter value in Celsius : 3\n",
      "3.0°C in Fahrenheit = 37.4°F\n"
     ]
    }
   ],
   "source": [
    "# Program that converts Celsius to Fahrenheit\n",
    "\n",
    "Celsius = float(input(\"Enter value in Celsius : \"))\n",
    "Fahrenheit = (Celsius * 9/5) + 32 \n",
    "print(f\"{Celsius}°C in Fahrenheit = {Fahrenheit}°F\")"
   ]
  },
  {
   "cell_type": "markdown",
   "id": "e6d0ff54",
   "metadata": {},
   "source": [
    "## 3. Write a Python program to display calendar?"
   ]
  },
  {
   "cell_type": "code",
   "execution_count": 15,
   "id": "e9b22b17",
   "metadata": {},
   "outputs": [
    {
     "name": "stdout",
     "output_type": "stream",
     "text": [
      "Enter year : 2022\n",
      "Enter month : 9\n",
      "   September 2022\n",
      "Mo Tu We Th Fr Sa Su\n",
      "          1  2  3  4\n",
      " 5  6  7  8  9 10 11\n",
      "12 13 14 15 16 17 18\n",
      "19 20 21 22 23 24 25\n",
      "26 27 28 29 30\n",
      "\n"
     ]
    }
   ],
   "source": [
    "# Python program to display calendar\n",
    "\n",
    "import calendar\n",
    "year = int(input(\"Enter year : \"))\n",
    "month = int(input(\"Enter month : \"))\n",
    "print(calendar.month(year, month))"
   ]
  },
  {
   "cell_type": "markdown",
   "id": "86e620f2",
   "metadata": {},
   "source": [
    "## 4. Write a Python program to solve quadratic equation?"
   ]
  },
  {
   "cell_type": "code",
   "execution_count": 21,
   "id": "c16d370b",
   "metadata": {},
   "outputs": [
    {
     "name": "stdout",
     "output_type": "stream",
     "text": [
      "Enter a value : 2\n",
      "Enter b value : 3\n",
      "Enter c value : 4\n",
      "The solution are (-0.75+1.1989578808281798j) and (-0.75-1.1989578808281798j)\n"
     ]
    }
   ],
   "source": [
    "# Python program to solve quadratic equation\n",
    "# The two solutions for Quadratic equation in the form ax2 + bx + c = 0 are\n",
    "# sol1 = (-b + (b**2 - 4*a*c)**1/2)2*a\n",
    "# sol2 = (-b - (b**2 - 4*a*c)**1/2)2*a\n",
    "import cmath\n",
    "\n",
    "a = int(input(\"Enter a value : \"))\n",
    "b = int(input(\"Enter b value : \"))\n",
    "c = int(input(\"Enter c value : \"))\n",
    "d = b**2 - 4*a*c\n",
    "solution1 = (-b + cmath.sqrt(d))/(2*a)\n",
    "solution2 = (-b - cmath.sqrt(d))/(2*a)\n",
    "print('The solution are {} and {}'.format(solution1,solution2))\n"
   ]
  },
  {
   "cell_type": "markdown",
   "id": "5caffcfc",
   "metadata": {},
   "source": [
    "## 5. Write a Python program to swap two variables without temp variable?"
   ]
  },
  {
   "cell_type": "code",
   "execution_count": 22,
   "id": "b9344427",
   "metadata": {},
   "outputs": [
    {
     "name": "stdout",
     "output_type": "stream",
     "text": [
      "Enter x value : 2\n",
      "Enter y value : 3\n",
      "Initial values of x = 2 and y = 3\n",
      "Final values of x = 3 and y = 2\n"
     ]
    }
   ],
   "source": [
    "#Python program to swap two variables without temp variable\n",
    "x = input(\"Enter x value : \")\n",
    "y = input(\"Enter y value : \")\n",
    "print(f\"Initial values of x = {x} and y = {y}\")\n",
    "x,y = y,x\n",
    "print(f\"Final values of x = {x} and y = {y}\")"
   ]
  },
  {
   "cell_type": "code",
   "execution_count": null,
   "id": "dcc6c7de",
   "metadata": {},
   "outputs": [],
   "source": []
  }
 ],
 "metadata": {
  "kernelspec": {
   "display_name": "Python 3 (ipykernel)",
   "language": "python",
   "name": "python3"
  },
  "language_info": {
   "codemirror_mode": {
    "name": "ipython",
    "version": 3
   },
   "file_extension": ".py",
   "mimetype": "text/x-python",
   "name": "python",
   "nbconvert_exporter": "python",
   "pygments_lexer": "ipython3",
   "version": "3.9.7"
  }
 },
 "nbformat": 4,
 "nbformat_minor": 5
}
