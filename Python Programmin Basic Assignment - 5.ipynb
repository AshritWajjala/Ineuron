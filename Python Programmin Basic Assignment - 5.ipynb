{
 "cells": [
  {
   "cell_type": "markdown",
   "id": "f7d94b4e",
   "metadata": {},
   "source": [
    "# Python Pragramming Basic Assignment - 5"
   ]
  },
  {
   "cell_type": "markdown",
   "id": "8f5587ec",
   "metadata": {},
   "source": [
    "## 1. Write a Python Program to Find LCM?"
   ]
  },
  {
   "cell_type": "code",
   "execution_count": 5,
   "id": "2bd6822f",
   "metadata": {},
   "outputs": [
    {
     "name": "stdout",
     "output_type": "stream",
     "text": [
      "Enter number 1 : 33\n",
      "Enter number 2 : 44\n",
      "The LCM of 33 and 44 = 132\n"
     ]
    }
   ],
   "source": [
    "# Python Program to Find LCM\n",
    "\n",
    "def LCM():\n",
    "    num1 = int(input(\"Enter number 1 : \"))\n",
    "    num2 = int(input(\"Enter number 2 : \"))\n",
    "    if num1 > num2: # To find the greater value\n",
    "        highest = num1\n",
    "    highest = num2\n",
    "    while(True):\n",
    "        if ((highest % num1 == 0) and (highest % num2 == 0)):\n",
    "            LCM = highest\n",
    "            break\n",
    "        highest += 1\n",
    "    print(f\"The LCM of {num1} and {num2} = {LCM}\")\n",
    "LCM()"
   ]
  },
  {
   "cell_type": "markdown",
   "id": "4627cec6",
   "metadata": {},
   "source": [
    "## 2. Write a Python Program to Find HCF?"
   ]
  },
  {
   "cell_type": "code",
   "execution_count": 12,
   "id": "9aa200c3",
   "metadata": {},
   "outputs": [
    {
     "name": "stdout",
     "output_type": "stream",
     "text": [
      "Enter number 1 : 8\n",
      "Enter number 2 : 12\n",
      "The HCF of 8 and 12 = 4\n"
     ]
    }
   ],
   "source": [
    "# Python Program to Find HCF\n",
    "\n",
    "def HCF(num,num2):\n",
    "    if num1 > num2: # To find the smaller value\n",
    "        smaller = num2\n",
    "    smaller = num1\n",
    "    for i in range(1,smaller + 1):\n",
    "        if ((num1 % i == 0) and (num2 % i == 0)):\n",
    "            HCF = i\n",
    "    return HCF\n",
    "\n",
    "num1 = int(input(\"Enter number 1 : \"))\n",
    "num2 = int(input(\"Enter number 2 : \"))\n",
    "print(f\"The HCF of {num1} and {num2} = {HCF(num1,num2)}\")"
   ]
  },
  {
   "cell_type": "markdown",
   "id": "14e55b65",
   "metadata": {},
   "source": [
    "## 3. Write a Python Program to Convert Decimal to Binary, Octal and Hexadecimal?"
   ]
  },
  {
   "cell_type": "code",
   "execution_count": 19,
   "id": "06944e64",
   "metadata": {},
   "outputs": [
    {
     "name": "stdout",
     "output_type": "stream",
     "text": [
      "Enter value : 12\n",
      "The binary form of 12 is : 0b1100\n",
      "The octal form of 12 is : 0o14\n",
      "The hexadecimal form of 12 is : 0xc\n"
     ]
    }
   ],
   "source": [
    "# Python Program to Convert Decimal to Binary, Octal and Hexadecimal\n",
    "\n",
    "def dec_to_bin(n):\n",
    "    return bin(n)\n",
    "def dec_to_oct(n):\n",
    "    return oct(n)\n",
    "def dec_to_hex(n):\n",
    "    return hex(n)\n",
    "n = int(input(\"Enter value : \"))\n",
    "print(f\"The binary form of {n} is :\", dec_to_bin(n))\n",
    "print(f\"The octal form of {n} is :\", dec_to_oct(n))\n",
    "print(f\"The hexadecimal form of {n} is :\", dec_to_hex(n))"
   ]
  },
  {
   "cell_type": "markdown",
   "id": "94da1a82",
   "metadata": {},
   "source": [
    "## 4. Write a Python Program To Find ASCII value of a character?"
   ]
  },
  {
   "cell_type": "code",
   "execution_count": 27,
   "id": "88abc071",
   "metadata": {},
   "outputs": [
    {
     "name": "stdout",
     "output_type": "stream",
     "text": [
      "Enter a value : c\n",
      "The ASCII value of the given input is : 99\n"
     ]
    }
   ],
   "source": [
    "a = (input(\"Enter a value : \"))\n",
    "print(f\"The ASCII value of the given input is : {ord(a)}\")"
   ]
  },
  {
   "cell_type": "markdown",
   "id": "4b511557",
   "metadata": {},
   "source": [
    "## 5. Write a Python Program to Make a Simple Calculator with 4 basic mathematical operations?"
   ]
  },
  {
   "cell_type": "code",
   "execution_count": 34,
   "id": "63ffabcb",
   "metadata": {},
   "outputs": [
    {
     "name": "stdout",
     "output_type": "stream",
     "text": [
      "THIS IS A SIMPLE CALULATOR\n",
      "AVAILABLE OPERATIONS ARE:\n",
      "1. ADDITION\n",
      "2. SUBTRACTION\n",
      "3. MULTIPLICATION\n",
      "4. DIVISION\n",
      "SELECT OPERATION : mul\n",
      "Enter number 1 = 10\n",
      "Enter number 2 = 20\n",
      "10 x 20 =  200\n"
     ]
    }
   ],
   "source": [
    "#Python Program to Make a Simple Calculator with 4 basic mathematical operations\n",
    "\n",
    "def Simple_Calculator():\n",
    "    def addition(x,y):\n",
    "        return x+y\n",
    "    def subtraction(x,y):\n",
    "        return x-y\n",
    "    def multiplication(x,y):\n",
    "        return x*y\n",
    "    def division(x,y):\n",
    "        return x/y\n",
    "    print(\"THIS IS A SIMPLE CALULATOR\")\n",
    "    print(\"AVAILABLE OPERATIONS ARE:\")\n",
    "    print(\"1. ADDITION\")\n",
    "    print(\"2. SUBTRACTION\")\n",
    "    print(\"3. MULTIPLICATION\")\n",
    "    print(\"4. DIVISION\")\n",
    "    Input = str(input(\"SELECT OPERATION : \").lower())\n",
    "    if Input == 'addition' or Input == 'add':\n",
    "        x = int(input(\"Enter number 1 = \"))\n",
    "        y = int(input(\"Enter number 2 = \"))\n",
    "        print(f\"{x} + {y} = \",addition(x,y))\n",
    "    elif Input == 'subtraction'or Input == 'sub':\n",
    "        x = int(input(\"Enter number 1 = \"))\n",
    "        y = int(input(\"Enter number 2 = \"))\n",
    "        print(f\"{x} - {y} = \",subtraction(x,y))\n",
    "    elif Input == 'multiplication' or Input == 'mul':\n",
    "        x = int(input(\"Enter number 1 = \"))\n",
    "        y = int(input(\"Enter number 2 = \"))\n",
    "        print(f\"{x} x {y} = \",multiplication(x,y))\n",
    "    elif Input == 'division' or Input == 'div':\n",
    "        x = int(input(\"Enter number 1 = \"))\n",
    "        y = int(input(\"Enter number 2 = \"))\n",
    "        print(f\"{x} / {y} = \",division(x,y))\n",
    "    else:\n",
    "        print(\"Invalid operation, Please enter again\")\n",
    "        Simple_Calculator()\n",
    "Simple_Calculator()   "
   ]
  },
  {
   "cell_type": "code",
   "execution_count": null,
   "id": "7441d51a",
   "metadata": {},
   "outputs": [],
   "source": []
  }
 ],
 "metadata": {
  "kernelspec": {
   "display_name": "Python 3 (ipykernel)",
   "language": "python",
   "name": "python3"
  },
  "language_info": {
   "codemirror_mode": {
    "name": "ipython",
    "version": 3
   },
   "file_extension": ".py",
   "mimetype": "text/x-python",
   "name": "python",
   "nbconvert_exporter": "python",
   "pygments_lexer": "ipython3",
   "version": "3.9.7"
  }
 },
 "nbformat": 4,
 "nbformat_minor": 5
}
