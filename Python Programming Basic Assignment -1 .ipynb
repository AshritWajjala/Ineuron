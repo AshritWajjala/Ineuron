{
 "cells": [
  {
   "cell_type": "markdown",
   "id": "bbe9c6e4",
   "metadata": {},
   "source": [
    "## 1. Write a Python program to print \"Hello Python\""
   ]
  },
  {
   "cell_type": "code",
   "execution_count": 1,
   "id": "75c50272",
   "metadata": {},
   "outputs": [
    {
     "name": "stdout",
     "output_type": "stream",
     "text": [
      "Hello Python (without using a viriable)\n",
      "Hello Python (With using a variable)\n"
     ]
    }
   ],
   "source": [
    "# Program to print Hello Python\n",
    "\n",
    "print(\"Hello Python (without using a viriable)\")#Without using a variable\n",
    "a = \"Hello Python\"\n",
    "print(f\"{a} (With using a variable)\")"
   ]
  },
  {
   "cell_type": "markdown",
   "id": "aaf46287",
   "metadata": {},
   "source": [
    "## 2. Write a Python program to do arithmetical operations addition and division.?"
   ]
  },
  {
   "cell_type": "code",
   "execution_count": 7,
   "id": "09e41025",
   "metadata": {},
   "outputs": [
    {
     "name": "stdout",
     "output_type": "stream",
     "text": [
      "a + b = 6\n",
      "a - b = -2\n",
      "a * b = 8\n",
      "a / b = 0.5\n",
      "a ** b = 16\n",
      "a % b = 2\n"
     ]
    }
   ],
   "source": [
    "# Program performing arthmetic operations\n",
    "a = 2\n",
    "b = 4\n",
    "add = a + b\n",
    "sub = a - b\n",
    "mul = a * b\n",
    "div = a / b\n",
    "power = a ** b\n",
    "mod = a % b\n",
    "print(f\"a + b = {add}\")\n",
    "print(f\"a - b = {sub}\")\n",
    "print(f\"a * b = {mul}\")\n",
    "print(f\"a / b = {div}\")\n",
    "print(f\"a ** b = {power}\")\n",
    "print(f\"a % b = {mod}\")"
   ]
  },
  {
   "cell_type": "markdown",
   "id": "f05d1b3e",
   "metadata": {},
   "source": [
    "## 3. Write a Python program to find the area of a triangle?"
   ]
  },
  {
   "cell_type": "code",
   "execution_count": 9,
   "id": "3799cb22",
   "metadata": {},
   "outputs": [
    {
     "name": "stdout",
     "output_type": "stream",
     "text": [
      "Enter base value : 12\n",
      "Enter height value : 34\n",
      "The area of the triangle = 204.0\n"
     ]
    }
   ],
   "source": [
    "#Program to find the area of the triangle\n",
    "\n",
    "base = int(input(\"Enter base value : \"))\n",
    "height = int(input(\"Enter height value : \"))\n",
    "area = (base*height)/2\n",
    "print(f\"The area of the triangle = {area}\")"
   ]
  },
  {
   "cell_type": "markdown",
   "id": "ac6328fc",
   "metadata": {},
   "source": [
    "## 4. Write a Python program to swap two variables?"
   ]
  },
  {
   "cell_type": "code",
   "execution_count": 8,
   "id": "683d75e5",
   "metadata": {},
   "outputs": [
    {
     "name": "stdout",
     "output_type": "stream",
     "text": [
      "Initial a value = 2\n",
      "Initial b value = 3\n",
      "Final a value = 3\n",
      "Final b value = 2\n"
     ]
    }
   ],
   "source": [
    "# Program to swap two variables\n",
    "\n",
    "a = 2\n",
    "b = 3\n",
    "print(f\"Initial a value = {a}\")\n",
    "print(f\"Initial b value = {b}\")\n",
    "c = a\n",
    "a = b\n",
    "b = c\n",
    "print(f\"Final a value = {a}\")\n",
    "print(f\"Final b value = {b}\")\n"
   ]
  },
  {
   "cell_type": "markdown",
   "id": "e9110b0d",
   "metadata": {},
   "source": [
    "## 5. Write a Python program to generate a random number?"
   ]
  },
  {
   "cell_type": "code",
   "execution_count": 13,
   "id": "87849621",
   "metadata": {},
   "outputs": [
    {
     "name": "stdout",
     "output_type": "stream",
     "text": [
      "Random number 1 = 7\n",
      "Random number 2 = 7\n",
      "Random number 3 = 7\n",
      "Random number 4 = 7\n"
     ]
    }
   ],
   "source": [
    "#Python program to generate a random number\n",
    "\n",
    "import random\n",
    "a = random.randint(1,11)\n",
    "print(f\"Random number 1 = {a}\")\n",
    "print(f\"Random number 2 = {a}\")\n",
    "print(f\"Random number 3 = {a}\")\n",
    "print(f\"Random number 4 = {a}\")"
   ]
  },
  {
   "cell_type": "code",
   "execution_count": null,
   "id": "215b70ac",
   "metadata": {},
   "outputs": [],
   "source": []
  }
 ],
 "metadata": {
  "kernelspec": {
   "display_name": "Python 3 (ipykernel)",
   "language": "python",
   "name": "python3"
  },
  "language_info": {
   "codemirror_mode": {
    "name": "ipython",
    "version": 3
   },
   "file_extension": ".py",
   "mimetype": "text/x-python",
   "name": "python",
   "nbconvert_exporter": "python",
   "pygments_lexer": "ipython3",
   "version": "3.9.7"
  }
 },
 "nbformat": 4,
 "nbformat_minor": 5
}
